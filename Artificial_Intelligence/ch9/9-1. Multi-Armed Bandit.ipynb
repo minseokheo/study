{
 "cells": [
  {
   "cell_type": "code",
   "execution_count": 1,
   "metadata": {},
   "outputs": [],
   "source": [
    "import numpy as np"
   ]
  },
  {
   "cell_type": "code",
   "execution_count": 2,
   "metadata": {},
   "outputs": [],
   "source": [
    "# 다중 손잡이 밴딧 문제 설정\n",
    "arms_profit=[0.4, 0.12, 0.52, 0.6, 0.25]\n",
    "n_arms=len(arms_profit)\n",
    "\n",
    "n_trial=10000 # 손잡이를 당기는 횟수(에피소드 길이)"
   ]
  },
  {
   "cell_type": "code",
   "execution_count": 3,
   "metadata": {},
   "outputs": [],
   "source": [
    "# 손잡이 당기는 행위를 시뮬레이션하는 함수(handle은 손잡이 번호)\n",
    "def pull_bandit(handle):\n",
    "    q=np.random.random()\n",
    "    if q<arms_profit[handle]:\n",
    "        return 1\n",
    "    else:\n",
    "        return -1"
   ]
  },
  {
   "cell_type": "code",
   "execution_count": 4,
   "metadata": {},
   "outputs": [],
   "source": [
    "# 랜덤 정책을 모방하는 함수\n",
    "def random_exploration():\n",
    "    episode=[]\n",
    "    num=np.zeros(n_arms) # 손잡이별로 당긴 횟수\n",
    "    wins=np.zeros(n_arms) # 손잡이별로 승리 횟수\n",
    "    for i in range(n_trial):\n",
    "        h=np.random.randint(0,n_arms)\n",
    "        reward=pull_bandit(h)\n",
    "        episode.append([h,reward])\n",
    "        num[h]+=1\n",
    "        wins[h]+=1 if reward==1 else 0\n",
    "    return episode, (num,wins)"
   ]
  },
  {
   "cell_type": "code",
   "execution_count": 5,
   "metadata": {},
   "outputs": [
    {
     "name": "stdout",
     "output_type": "stream",
     "text": [
      "손잡이별 승리 확률: ['0.4008', '0.1243', '0.5251', '0.6014', '0.2395']\n",
      "손잡이별 수익($): ['-383', '-1530', '101', '400', '-1066']\n",
      "순 수익($): -2478\n"
     ]
    }
   ],
   "source": [
    "e,r=random_exploration()\n",
    "\n",
    "print(\"손잡이별 승리 확률:\", [\"%6.4f\"% (r[1][i]/r[0][i]) if r[0][i]>0 else 0.0 for i in range(n_arms)])\n",
    "print(\"손잡이별 수익($):\",[\"%d\"% (2*r[1][i]-r[0][i]) for i in range(n_arms)])\n",
    "print(\"순 수익($):\",sum(np.asarray(e)[:,1]))"
   ]
  },
  {
   "cell_type": "code",
   "execution_count": 6,
   "metadata": {},
   "outputs": [],
   "source": [
    "# ε-탐욕을 구현하는 함수\n",
    "def epsilon_greedy(eps):\n",
    "    episode=[]\n",
    "    num=np.zeros(n_arms) # 손잡이별로 당긴 횟수\n",
    "    wins=np.zeros(n_arms) # 손잡이별로 승리 횟수\n",
    "    for i in range(n_trial):\n",
    "        r=np.random.random()\n",
    "        if(r<eps or sum(wins)==0): # 확률 eps로 임의 선택\n",
    "            h=np.random.randint(0,n_arms)\n",
    "        else:\n",
    "            prob=np.asarray([wins[i]/num[i] if num[i]>0 else 0.0 for i in range(n_arms)])\n",
    "            prob=prob/sum(prob)\n",
    "#             h=np.random.choice(range(n_arms),p=prob) # original program 9-1\n",
    "            h=np.argmax(prob) # revised code - 항상 최고의 보상을 주는 손잡이를 고름\n",
    "        reward=pull_bandit(h)\n",
    "        episode.append([h,reward])\n",
    "        num[h]+=1\n",
    "        wins[h]+=1 if reward==1 else 0\n",
    "    return episode, (num,wins)"
   ]
  },
  {
   "cell_type": "code",
   "execution_count": 7,
   "metadata": {},
   "outputs": [
    {
     "name": "stdout",
     "output_type": "stream",
     "text": [
      "손잡이별 승리 확률: ['0.2174', '0.0000', '0.5444', '0.6002', '0.1250']\n",
      "손잡이별 수익($): ['-13', '-23', '15', '1957', '-18']\n",
      "순 수익($): 1918\n"
     ]
    }
   ],
   "source": [
    "e,r=epsilon_greedy(0.01)\n",
    "\n",
    "print(\"손잡이별 승리 확률:\", [\"%6.4f\"% (r[1][i]/r[0][i]) if r[0][i]>0 else 0.0 for i in range(n_arms)])\n",
    "print(\"손잡이별 수익($):\",[\"%d\"% (2*r[1][i]-r[0][i]) for i in range(n_arms)])\n",
    "print(\"순 수익($):\",sum(np.asarray(e)[:,1]))"
   ]
  },
  {
   "cell_type": "code",
   "execution_count": null,
   "metadata": {},
   "outputs": [],
   "source": []
  }
 ],
 "metadata": {
  "kernelspec": {
   "display_name": "base",
   "language": "python",
   "name": "python3"
  },
  "language_info": {
   "codemirror_mode": {
    "name": "ipython",
    "version": 3
   },
   "file_extension": ".py",
   "mimetype": "text/x-python",
   "name": "python",
   "nbconvert_exporter": "python",
   "pygments_lexer": "ipython3",
   "version": "3.9.16"
  }
 },
 "nbformat": 4,
 "nbformat_minor": 4
}
